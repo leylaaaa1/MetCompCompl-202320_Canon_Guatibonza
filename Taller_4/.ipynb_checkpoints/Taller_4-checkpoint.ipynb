{
 "cells": [
  {
   "cell_type": "code",
   "execution_count": 1,
   "metadata": {},
   "outputs": [],
   "source": [
    "#send help"
   ]
  },
  {
   "cell_type": "code",
   "execution_count": 2,
   "metadata": {},
   "outputs": [],
   "source": [
    "#please"
   ]
  },
  {
   "cell_type": "code",
   "execution_count": 1,
   "metadata": {},
   "outputs": [],
   "source": [
    "#Punto 4"
   ]
  },
  {
   "cell_type": "code",
   "execution_count": 3,
   "metadata": {},
   "outputs": [
    {
     "name": "stdout",
     "output_type": "stream",
     "text": [
      "7.500000000000001e-06\n"
     ]
    }
   ],
   "source": [
    "import numpy as np\n",
    "\n",
    "\n",
    "\n",
    "pri=np.array([[0.25,0,0.5,0.25]])\n",
    "E=np.array([[0.8,0,0,0.2],[0.05,0.9,0.1,0.1],[0.05,0.1,0.9,0],[0.1,0,0,0.7]])\n",
    "T= np.array([[0.4,0.2,0.2,0.2],[0.25,0.25,0.25,0.25],[0.3,0.3,0.1,0.3],[0.1,0.1,0.1,0.7]])\n",
    "g=np.array([[3,2,1,3,1,0,0,0]])\n",
    "\n",
    "'''\n",
    "punto 1\n",
    "'''\n",
    "def gen(pri,T,g):\n",
    "    cont=1\n",
    "    for i in g[0]:\n",
    "        if cont==1:\n",
    "            cont=cont*pri[0][i]\n",
    "            j=i\n",
    "        else:\n",
    "            cont=cont*T[j][i]\n",
    "            j=i\n",
    "            \n",
    "    return cont\n",
    "\n",
    "print(gen(pri,T,g))"
   ]
  },
  {
   "cell_type": "code",
   "execution_count": 6,
   "metadata": {},
   "outputs": [
    {
     "data": {
      "text/plain": [
       "1.3716864000000001e-06"
      ]
     },
     "execution_count": 6,
     "metadata": {},
     "output_type": "execute_result"
    }
   ],
   "source": [
    "import numpy as np\n",
    "\n",
    "\n",
    "pri=np.array([[0.25,0,0.5,0.25]])\n",
    "E=np.array([[0.8,0,0,0.2],[0.05,0.9,0.1,0.1],[0.05,0.1,0.9,0],[0.1,0,0,0.7]])\n",
    "T= np.array([[0.4,0.2,0.2,0.2],[0.25,0.25,0.25,0.25],[0.3,0.3,0.1,0.3],[0.1,0.1,0.1,0.7]])\n",
    "g=np.array([[3,2,1,3,1,0,0,0]])\n",
    "gt=np.array([[3,2,1,3,1,0,0,0]])\n",
    "\n",
    "def gen(pri,T,g):\n",
    "    cont=1\n",
    "    for i in g[0]:\n",
    "        if cont==1:\n",
    "            cont=cont*pri[0][i]\n",
    "            j=i\n",
    "        else:\n",
    "            cont=cont*T[j][i]\n",
    "            j=i\n",
    "            \n",
    "    return cont\n",
    "\n",
    "def traduc(pri,T,g,E,gt):\n",
    "    prob=gen(pri,T,g)\n",
    "    for i in range(len(g[0])):\n",
    "        prob=prob*E[gt[0][i]][g[0][i]]\n",
    "\n",
    "            \n",
    "    return prob\n",
    "\n",
    "traduc(pri,T,g,E,gt)"
   ]
  },
  {
   "cell_type": "code",
   "execution_count": null,
   "metadata": {},
   "outputs": [],
   "source": []
  }
 ],
 "metadata": {
  "kernelspec": {
   "display_name": "Python 3",
   "language": "python",
   "name": "python3"
  },
  "language_info": {
   "codemirror_mode": {
    "name": "ipython",
    "version": 3
   },
   "file_extension": ".py",
   "mimetype": "text/x-python",
   "name": "python",
   "nbconvert_exporter": "python",
   "pygments_lexer": "ipython3",
   "version": "3.11.6"
  }
 },
 "nbformat": 4,
 "nbformat_minor": 4
}
