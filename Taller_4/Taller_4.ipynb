{
 "cells": [
  {
   "cell_type": "code",
   "execution_count": 1,
   "metadata": {},
   "outputs": [],
   "source": [
    "#send help"
   ]
  },
  {
   "cell_type": "code",
   "execution_count": 1,
   "metadata": {},
   "outputs": [],
   "source": [
    "#please"
   ]
  },
  {
   "cell_type": "code",
   "execution_count": null,
   "metadata": {},
   "outputs": [],
   "source": [
    "#Punto 1.1.a"
   ]
  },
  {
   "cell_type": "code",
   "execution_count": 26,
   "metadata": {},
   "outputs": [
    {
     "data": {
      "text/plain": [
       "0.008503401360544218"
      ]
     },
     "execution_count": 26,
     "metadata": {},
     "output_type": "execute_result"
    }
   ],
   "source": [
    "import numpy as np\n",
    "\n",
    "N = 10000\n",
    "prob2=0\n",
    "prob3=0\n",
    "\n",
    "for i in range(N):\n",
    "    cartas = np.zeros(52)\n",
    "    cartas[:13]=1\n",
    "    np.random.shuffle(cartas)\n",
    " \n",
    "    if cartas[0]==1 and cartas[1]==1:\n",
    "        prob2+=1\n",
    "        if cartas[2]==1 and cartas[3]==1 and cartas[4]==1:\n",
    "            prob3+=1\n",
    "       \n",
    "prob3/prob2"
   ]
  },
  {
   "cell_type": "code",
   "execution_count": 68,
   "metadata": {},
   "outputs": [
    {
     "data": {
      "text/plain": [
       "0.0364741641337386"
      ]
     },
     "execution_count": 68,
     "metadata": {},
     "output_type": "execute_result"
    }
   ],
   "source": [
    "#Punto 1.1.b\n",
    "\n",
    "N = 100000\n",
    "prob3=0\n",
    "prob2=0\n",
    "\n",
    "for i in range(N):\n",
    "    cartas = np.zeros(52)\n",
    "    cartas[:13]=1\n",
    "    np.random.shuffle(cartas)\n",
    " \n",
    "    if cartas[0]==1 and cartas[1]==1 and cartas[2]:\n",
    "        prob3+=1\n",
    "        if cartas[3]==1 and cartas[4]==1 :\n",
    "            prob2+=1\n",
    "       \n",
    "prob2/prob3"
   ]
  },
  {
   "cell_type": "code",
   "execution_count": 73,
   "metadata": {},
   "outputs": [
    {
     "data": {
      "text/plain": [
       "0.18867924528301888"
      ]
     },
     "execution_count": 73,
     "metadata": {},
     "output_type": "execute_result"
    }
   ],
   "source": [
    "#Punto 1.1.c\n",
    "\n",
    "N = 100000\n",
    "prob4=0\n",
    "prob1=0\n",
    "\n",
    "for i in range(N):\n",
    "    cartas = np.zeros(52)\n",
    "    cartas[:13]=1\n",
    "    np.random.shuffle(cartas)\n",
    " \n",
    "    if cartas[0]==1 and cartas[1]==1 and cartas[2] and cartas[3]==1:\n",
    "        prob4+=1\n",
    "        if cartas[4]==1 :\n",
    "            prob1+=1\n",
    "            \n",
    "prob1/prob4"
   ]
  },
  {
   "cell_type": "code",
   "execution_count": null,
   "metadata": {},
   "outputs": [],
   "source": [
    "#Punto 1.2"
   ]
  },
  {
   "cell_type": "code",
   "execution_count": null,
   "metadata": {},
   "outputs": [],
   "source": [
    "prob_sickp=0.6\n",
    "no_sick_vaccine=0.8\n",
    "sick_vaccine=0.2\n",
    "no_sick_vaccine_nt=0.1\n",
    "sick_vaccine_nt=0.90\n",
    "p_vac=0\n",
    "p_vac_nt=0\n",
    "\n",
    "N=10000\n",
    "\n",
    "for i in range(N):\n",
    "    \n",
    "    \n",
    "\n",
    "\n",
    "\n"
   ]
  },
  {
   "cell_type": "code",
   "execution_count": null,
   "metadata": {},
   "outputs": [],
   "source": [
    "#Punto2.1.a\n",
    "\n"
   ]
  },
  {
   "cell_type": "code",
   "execution_count": null,
   "metadata": {},
   "outputs": [],
   "source": [
    "#Punto2.1.b"
   ]
  },
  {
   "cell_type": "code",
   "execution_count": null,
   "metadata": {},
   "outputs": [],
   "source": [
    "#Punto2.2.a"
   ]
  },
  {
   "cell_type": "code",
   "execution_count": null,
   "metadata": {},
   "outputs": [],
   "source": [
    "#Punto2.2.b"
   ]
  },
  {
   "cell_type": "code",
   "execution_count": null,
   "metadata": {},
   "outputs": [],
   "source": [
    "#Punto2.2.c"
   ]
  },
  {
   "cell_type": "code",
   "execution_count": null,
   "metadata": {},
   "outputs": [],
   "source": [
    "#Punto2.2.d"
   ]
  },
  {
   "cell_type": "code",
   "execution_count": 1,
   "metadata": {},
   "outputs": [],
   "source": [
    "#Punto 4"
   ]
  },
  {
   "cell_type": "code",
   "execution_count": 2,
   "metadata": {},
   "outputs": [
    {
     "name": "stdout",
     "output_type": "stream",
     "text": [
      "7.500000000000001e-06\n"
     ]
    }
   ],
   "source": [
    "import numpy as np\n",
    "\n",
    "\n",
    "\n",
    "pri=np.array([[0.25,0,0.5,0.25]])\n",
    "E=np.array([[0.8,0,0,0.2],[0.05,0.9,0.1,0.1],[0.05,0.1,0.9,0],[0.1,0,0,0.7]])\n",
    "T= np.array([[0.4,0.2,0.2,0.2],[0.25,0.25,0.25,0.25],[0.3,0.3,0.1,0.3],[0.1,0.1,0.1,0.7]])\n",
    "g=np.array([[3,2,1,3,1,0,0,0]])\n",
    "\n",
    "'''\n",
    "punto 1\n",
    "'''\n",
    "def gen(pri,T,g):\n",
    "    cont=1\n",
    "    for i in g[0]:\n",
    "        if cont==1:\n",
    "            cont=cont*pri[0][i]\n",
    "            j=i\n",
    "        else:\n",
    "            cont=cont*T[j][i]\n",
    "            j=i\n",
    "            \n",
    "    return cont\n",
    "\n",
    "print(gen(pri,T,g))"
   ]
  },
  {
   "cell_type": "code",
   "execution_count": 5,
   "metadata": {},
   "outputs": [],
   "source": [
    "#PUNTO 1"
   ]
  },
  {
   "cell_type": "code",
   "execution_count": 6,
   "metadata": {},
   "outputs": [],
   "source": [
    "#a"
   ]
  },
  {
   "cell_type": "code",
   "execution_count": 3,
   "metadata": {},
   "outputs": [],
   "source": [
    "dock= np.array(([2,3,4,5,6,7,8,9,10,11,12,13,14],[15,16,17,18,19,20,21,22,23,24,25,26,27],[28,29,30,31,32,33,34,35,36,37,38,39,40],[41,42,43,44,45,46,47,48,49,50,51,52,53]))\n",
    "\n"
   ]
  },
  {
   "cell_type": "code",
   "execution_count": 4,
   "metadata": {},
   "outputs": [
    {
     "data": {
      "text/plain": [
       "2"
      ]
     },
     "execution_count": 4,
     "metadata": {},
     "output_type": "execute_result"
    }
   ],
   "source": [
    "carta"
   ]
  },
  {
   "cell_type": "code",
   "execution_count": 5,
   "metadata": {},
   "outputs": [],
   "source": [
    "N = 10000000\n",
    "\n",
    "todos_tuvieron_premio = 0\n",
    "solo_dos_boletas = 0\n",
    "\n",
    "def cartas ()\n",
    "for i in range(N):\n",
    "    boletas = np.zeros(50)\n",
    "    boletas[:3] =1\n",
    "    np.random.shuffle(boletas)\n",
    "    if sum(boletas[:4])==3:\n",
    "        todos_tuvieron_premio +=1 \n",
    "    if sum(boletas[:4])==2:\n",
    "        solo_dos_boletas +=1"
   ]
  },
  {
   "cell_type": "code",
   "execution_count": 16,
   "metadata": {},
   "outputs": [],
   "source": [
    "def cartas (dock):\n",
    "    cont=0\n",
    "    esp_left=13\n",
    "    total=52\n",
    "    for i in dock:\n",
    "        carta= np.random.choice(dock.ravel())\n",
    "        \n",
    "        while cont !=2:\n",
    "            \n",
    "            if carta in dock[0]:\n",
    "                cont+=1\n",
    "                esp_left-=1\n",
    "                total-=1\n",
    "            else:\n",
    "                carta=np.random.choice(dock.ravel())\n",
    "\n",
    "    \n",
    "            "
   ]
  },
  {
   "cell_type": "code",
   "execution_count": 17,
   "metadata": {},
   "outputs": [
    {
     "ename": "NameError",
     "evalue": "name 'cont' is not defined",
     "output_type": "error",
     "traceback": [
      "\u001b[0;31m---------------------------------------------------------------------------\u001b[0m",
      "\u001b[0;31mNameError\u001b[0m                                 Traceback (most recent call last)",
      "\u001b[0;32m<ipython-input-17-806fa32d2bee>\u001b[0m in \u001b[0;36m<module>\u001b[0;34m\u001b[0m\n\u001b[0;32m----> 1\u001b[0;31m \u001b[0mcont\u001b[0m\u001b[0;34m\u001b[0m\u001b[0;34m\u001b[0m\u001b[0m\n\u001b[0m",
      "\u001b[0;31mNameError\u001b[0m: name 'cont' is not defined"
     ]
    }
   ],
   "source": [
    "cont"
   ]
  },
  {
   "cell_type": "code",
   "execution_count": null,
   "metadata": {},
   "outputs": [],
   "source": [
    "N = 1000000\n",
    "evento_se_cumplio = 0\n",
    "for i in range(N):\n",
    "    cartas = np.arange(1,51)\n",
    "    espadas= [1,2,3,4,5,6,7,8,9,10,11]\n",
    "    np.random.shuffle(cartas)\n",
    "    cartas_tomo = cartas[:3]\n",
    "    num_esp = 0\n",
    "    for carta in cartas_tomo:\n",
    "        if carta in cartas[:11]:\n",
    "            # Es una espada\n",
    "            num_esp +=1 \n",
    "\n",
    "    if (num_ases ==3) & (num_reyes==2):\n",
    "        evento_se_cumplio +=1"
   ]
  }
 ],
 "metadata": {
  "kernelspec": {
   "display_name": "Python 3",
   "language": "python",
   "name": "python3"
  },
  "language_info": {
   "codemirror_mode": {
    "name": "ipython",
    "version": 3
   },
   "file_extension": ".py",
   "mimetype": "text/x-python",
   "name": "python",
   "nbconvert_exporter": "python",
   "pygments_lexer": "ipython3",
   "version": "3.8.5"
  }
 },
 "nbformat": 4,
 "nbformat_minor": 4
}
