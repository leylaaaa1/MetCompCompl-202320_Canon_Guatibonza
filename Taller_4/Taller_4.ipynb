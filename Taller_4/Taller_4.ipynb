{
 "cells": [
  {
   "cell_type": "code",
   "execution_count": 1,
   "metadata": {},
   "outputs": [],
   "source": [
    "#send help"
   ]
  },
  {
   "cell_type": "code",
   "execution_count": 1,
   "metadata": {},
   "outputs": [],
   "source": [
    "#please"
   ]
  },
  {
   "cell_type": "code",
   "execution_count": null,
   "metadata": {},
   "outputs": [],
   "source": [
    "#Punto 1.1.a"
   ]
  },
  {
   "cell_type": "code",
   "execution_count": 3,
   "metadata": {},
   "outputs": [
    {
     "data": {
      "text/plain": [
       "0.00819672131147541"
      ]
     },
     "execution_count": 3,
     "metadata": {},
     "output_type": "execute_result"
    }
   ],
   "source": [
    "import numpy as np\n",
    "\n",
    "N = 10000\n",
    "prob2=0\n",
    "prob3=0\n",
    "\n",
    "for i in range(N):\n",
    "    cartas = np.zeros(52)\n",
    "    cartas[:13]=1\n",
    "    np.random.shuffle(cartas)\n",
    " \n",
    "    if cartas[0]==1 and cartas[1]==1:\n",
    "        prob2+=1\n",
    "        if cartas[2]==1 and cartas[3]==1 and cartas[4]==1:\n",
    "            prob3+=1\n",
    "       \n",
    "prob3/prob2"
   ]
  },
  {
   "cell_type": "code",
   "execution_count": 68,
   "metadata": {},
   "outputs": [
    {
     "data": {
      "text/plain": [
       "0.0364741641337386"
      ]
     },
     "execution_count": 68,
     "metadata": {},
     "output_type": "execute_result"
    }
   ],
   "source": [
    "#Punto 1.1.b\n",
    "\n",
    "N = 100000\n",
    "prob3=0\n",
    "prob2=0\n",
    "\n",
    "for i in range(N):\n",
    "    cartas = np.zeros(52)\n",
    "    cartas[:13]=1\n",
    "    np.random.shuffle(cartas)\n",
    " \n",
    "    if cartas[0]==1 and cartas[1]==1 and cartas[2]:\n",
    "        prob3+=1\n",
    "        if cartas[3]==1 and cartas[4]==1 :\n",
    "            prob2+=1\n",
    "       \n",
    "prob2/prob3"
   ]
  },
  {
   "cell_type": "code",
   "execution_count": 73,
   "metadata": {},
   "outputs": [
    {
     "data": {
      "text/plain": [
       "0.18867924528301888"
      ]
     },
     "execution_count": 73,
     "metadata": {},
     "output_type": "execute_result"
    }
   ],
   "source": [
    "#Punto 1.1.c\n",
    "\n",
    "N = 100000\n",
    "prob4=0\n",
    "prob1=0\n",
    "\n",
    "for i in range(N):\n",
    "    cartas = np.zeros(52)\n",
    "    cartas[:13]=1\n",
    "    np.random.shuffle(cartas)\n",
    " \n",
    "    if cartas[0]==1 and cartas[1]==1 and cartas[2] and cartas[3]==1:\n",
    "        prob4+=1\n",
    "        if cartas[4]==1 :\n",
    "            prob1+=1\n",
    "            \n",
    "prob1/prob4"
   ]
  },
  {
   "cell_type": "code",
   "execution_count": null,
   "metadata": {},
   "outputs": [],
   "source": [
    "#Punto 1.2"
   ]
  },
  {
   "cell_type": "code",
   "execution_count": 75,
   "metadata": {},
   "outputs": [
    {
     "data": {
      "text/plain": [
       "0.5989"
      ]
     },
     "execution_count": 75,
     "metadata": {},
     "output_type": "execute_result"
    }
   ],
   "source": [
    "import random\n",
    "\n",
    "prob_sick=0.6\n",
    "p_no_sick_vaccine=0.8\n",
    "p_sick_vaccine=0.2\n",
    "p_no_sick_vaccine_nt=0.1\n",
    "p_sick_vaccine_nt=0.90\n",
    "\n",
    "\n",
    "se_cumplio=0\n",
    "N=10000\n",
    "\n",
    "for i in range(N):\n",
    "    \n",
    "    per_sick_vacc = random.random() < prob_sick and random.random()< p_sick_vaccine\n",
    "    per_sick_vacc_nt=  random.random() < prob_sick and random.random()< p_sick_vaccine_nt\n",
    "    \n",
    "    if per_sick_vacc or per_sick_vacc_nt:\n",
    "        se_cumplio+=1\n",
    "        \n",
    "se_cumplio/N\n",
    "    "
   ]
  },
  {
   "cell_type": "code",
   "execution_count": 77,
   "metadata": {},
   "outputs": [
    {
     "name": "stderr",
     "output_type": "stream",
     "text": [
      "No handles with labels found to put in legend.\n"
     ]
    },
    {
     "data": {
      "image/png": "[encoded data removed]",
      "text/plain": [
       "<Figure size 432x288 with 1 Axes>"
      ]
     },
     "metadata": {
      "needs_background": "light"
     },
     "output_type": "display_data"
    }
   ],
   "source": [
    "#Punto2.1.a\n",
    "terminar\n",
    "import numpy as np\n",
    "import matplotlib.pyplot as plt\n",
    "\n",
    "p=np.linspace(0,1)\n",
    "N=1000000\n",
    "def graf(p,N,n1,n2):\n",
    "    \n",
    "    datos1=[]\n",
    "    datos2=[]\n",
    "    pa=0\n",
    "    for i in p:\n",
    "        acep1=0\n",
    "        acep2=0\n",
    "        a=np.random.binomial(n1,i,size=N)\n",
    "        b=np.random.binomial(n2,i,size=N)\n",
    "        for j in range(N):\n",
    "            if a[j]<=1:\n",
    "                acep1+=1\n",
    "            if b[j]<=5:\n",
    "                acep2+=1\n",
    "        pa=acep1/N\n",
    "        pa2=acep2/N\n",
    "        datos1.append(pa)\n",
    "        datos2.append(pa2)\n",
    "    plt.plot(p,datos1)\n",
    "    plt.plot(p,datos2)\n",
    "    plt.xlabel(\"p\")\n",
    "    plt.ylabel(\"probabilidad aceptación\")\n",
    "    plt.legend()\n",
    "    plt.show()\n",
    "                \n",
    "graf(p,N,5,25)\n"
   ]
  },
  {
   "cell_type": "code",
   "execution_count": 109,
   "metadata": {},
   "outputs": [],
   "source": [
    "#Punto2.1.b\n"
   ]
  },
  {
   "cell_type": "code",
   "execution_count": 82,
   "metadata": {},
   "outputs": [
    {
     "data": {
      "text/plain": [
       "1"
      ]
     },
     "execution_count": 82,
     "metadata": {},
     "output_type": "execute_result"
    }
   ],
   "source": [
    "#Punto2.2.a\n",
    "import math\n",
    "import numpy as np\n",
    "\n",
    "lambd=1\n",
    "N=10000\n",
    "n=0\n",
    "\n",
    "prob= 0\n",
    "\n",
    "while prob <0.01:\n",
    "    n+=1\n",
    "    prob = (math.e**(-lambd)*lambd**n)/math.factorial(n)\n",
    "    \n",
    "\n",
    "n"
   ]
  },
  {
   "cell_type": "code",
   "execution_count": 51,
   "metadata": {},
   "outputs": [
    {
     "data": {
      "text/plain": [
       "1"
      ]
     },
     "execution_count": 51,
     "metadata": {},
     "output_type": "execute_result"
    }
   ],
   "source": [
    "#Punto2.2.b\n",
    "import sympy as sym\n",
    "\n",
    "lambd=1/4\n",
    "h = 0\n",
    "N=10000\n",
    "prob = 0\n",
    "\n",
    "while prob<0.02:\n",
    "    h+=1\n",
    "    prob += np.exp(-h*lambd)       \n",
    "     \n",
    "        \n",
    "h"
   ]
  },
  {
   "cell_type": "code",
   "execution_count": 108,
   "metadata": {},
   "outputs": [
    {
     "data": {
      "text/plain": [
       "0.19470019576785122"
      ]
     },
     "execution_count": 108,
     "metadata": {},
     "output_type": "execute_result"
    }
   ],
   "source": [
    "#Punto2.2.c\n",
    "\n",
    "lambd=1/4\n",
    "prob= math.e**(-lambd) * (lambd**1)  / math.factorial(1)\n",
    "\n",
    "prob"
   ]
  },
  {
   "cell_type": "code",
   "execution_count": null,
   "metadata": {},
   "outputs": [],
   "source": []
  },
  {
   "cell_type": "code",
   "execution_count": 90,
   "metadata": {},
   "outputs": [
    {
     "data": {
      "text/plain": [
       "0.3806931707809753"
      ]
     },
     "execution_count": 90,
     "metadata": {},
     "output_type": "execute_result"
    }
   ],
   "source": [
    "#Punto2.2.d\n",
    "\n",
    "import math\n",
    "\n",
    "lambd = 3/4\n",
    "prob = (math.e**(-lambd)) * (lambd**lambd) / math.factorial(int(lambd))\n",
    "prob"
   ]
  },
  {
   "cell_type": "code",
   "execution_count": 1,
   "metadata": {},
   "outputs": [],
   "source": [
    "#punto 3\n",
    "import scipy as sc\n",
    "import numpy as np\n",
    "import sympy as sp\n"
   ]
  },
  {
   "cell_type": "code",
   "execution_count": 2,
   "metadata": {},
   "outputs": [],
   "source": [
    "#3.1\n",
    "def func(x):\n",
    "    return (x**2)/3"
   ]
  },
  {
   "cell_type": "code",
   "execution_count": 3,
   "metadata": {},
   "outputs": [
    {
     "data": {
      "text/plain": [
       "0.11111111111111112"
      ]
     },
     "execution_count": 3,
     "metadata": {},
     "output_type": "execute_result"
    }
   ],
   "source": [
    "#3.1a\n",
    "a=sc.integrate.quad(func,0,1)[0]\n",
    "a"
   ]
  },
  {
   "cell_type": "code",
   "execution_count": 4,
   "metadata": {},
   "outputs": [
    {
     "data": {
      "text/plain": [
       "0.7777777777777778"
      ]
     },
     "execution_count": 4,
     "metadata": {},
     "output_type": "execute_result"
    }
   ],
   "source": [
    "#3.1b\n",
    "b=sc.integrate.quad(func,1,2)[0]\n",
    "b"
   ]
  },
  {
   "cell_type": "code",
   "execution_count": 5,
   "metadata": {},
   "outputs": [],
   "source": [
    "#3.2\n",
    "def normal(x):\n",
    "    return (1/(36*((np.pi*2)**(1/2)))*sp.exp(-0.5*((x-78)/(36))**2))"
   ]
  },
  {
   "cell_type": "code",
   "execution_count": 6,
   "metadata": {},
   "outputs": [
    {
     "data": {
      "text/latex": [
       "$\\displaystyle 0.566183832610903$"
      ],
      "text/plain": [
       "0.566183832610903"
      ]
     },
     "execution_count": 6,
     "metadata": {},
     "output_type": "execute_result"
    }
   ],
   "source": [
    "#3.2.a\n",
    "x=sp.symbols(\"x\")\n",
    "func=normal(x)\n",
    "maya72=sp.integrate(func,(x,72,np.inf)).evalf()\n",
    "maya72"
   ]
  },
  {
   "cell_type": "code",
   "execution_count": 7,
   "metadata": {},
   "outputs": [
    {
     "data": {
      "text/latex": [
       "$\\displaystyle 124.135856359605$"
      ],
      "text/plain": [
       "124.135856359605"
      ]
     },
     "execution_count": 7,
     "metadata": {},
     "output_type": "execute_result"
    }
   ],
   "source": [
    "#3.2.b\n",
    "x2=sp.symbols(\"b\")\n",
    "integral=sp.integrate(func,(x,x2,np.inf))\n",
    "nota_limite=sp.solve(integral-0.1)[0].evalf()\n",
    "nota_limite"
   ]
  },
  {
   "cell_type": "code",
   "execution_count": 8,
   "metadata": {},
   "outputs": [
    {
     "data": {
      "text/latex": [
       "$\\displaystyle 98.875442127397$"
      ],
      "text/plain": [
       "98.8754421273970"
      ]
     },
     "execution_count": 8,
     "metadata": {},
     "output_type": "execute_result"
    }
   ],
   "source": [
    "#3.2.c\n",
    "punto_limite=sp.solve(integral-0.281)[0].evalf()\n",
    "punto_limite\n",
    "    \n",
    "            "
   ]
  },
  {
   "cell_type": "code",
   "execution_count": 9,
   "metadata": {},
   "outputs": [
    {
     "data": {
      "text/latex": [
       "$\\displaystyle 0.208000501268187$"
      ],
      "text/plain": [
       "0.208000501268187"
      ]
     },
     "execution_count": 9,
     "metadata": {},
     "output_type": "execute_result"
    }
   ],
   "source": [
    "#3.2.d\n",
    "punto=sp.solve(integral-0.25)[0].evalf()\n",
    "notapuntos=punto+5\n",
    "mayanotamenormas5=sp.integrate(func,(x,notapuntos,np.inf)).evalf()\n",
    "mayanotamenormas5"
   ]
  },
  {
   "cell_type": "code",
   "execution_count": 10,
   "metadata": {},
   "outputs": [
    {
     "data": {
      "text/latex": [
       "$\\displaystyle 0.433816167389096$"
      ],
      "text/plain": [
       "0.433816167389096"
      ]
     },
     "execution_count": 10,
     "metadata": {},
     "output_type": "execute_result"
    }
   ],
   "source": [
    "#3.2.e\n",
    "maya84=sp.integrate(func,(x,84,np.inf)).evalf()\n",
    "maya84\n",
    "#Esto debido a que si son mayores a 72, serán mayores a 84"
   ]
  },
  {
   "cell_type": "code",
   "execution_count": 11,
   "metadata": {},
   "outputs": [],
   "source": [
    "#punto 4\n",
    "pri=np.array([[0.25,0,0.5,0.25]])\n",
    "E=np.array([[0.8,0,0,0.2],[0.05,0.9,0.1,0.1],[0.05,0.1,0.9,0],[0.1,0,0,0.7]])\n",
    "T= np.array([[0.4,0.2,0.2,0.2],[0.25,0.25,0.25,0.25],[0.3,0.3,0.1,0.3],[0.1,0.1,0.1,0.7]])\n",
    "g=np.array([[3,2,1,3,1,0,0,0]])"
   ]
  },
  {
   "cell_type": "code",
   "execution_count": 12,
   "metadata": {},
   "outputs": [
    {
     "data": {
      "text/plain": [
       "7.500000000000001e-06"
      ]
     },
     "execution_count": 12,
     "metadata": {},
     "output_type": "execute_result"
    }
   ],
   "source": [
    "#a\n",
    "ef gen(pri,T,g):\n",
    "    cont=1\n",
    "    for i in g[0]:\n",
    "        if cont==1:\n",
    "            cont=cont*pri[0][i]\n",
    "            j=i\n",
    "        else:\n",
    "            cont=cont*T[j][i]\n",
    "            j=i\n",
    "            \n",
    "    return cont\n",
    "gen(pri,T,g)"
   ]
  },
  {
   "cell_type": "code",
   "execution_count": 14,
   "metadata": {},
   "outputs": [
    {
     "data": {
      "text/plain": [
       "1.3716864000000001e-06"
      ]
     },
     "execution_count": 14,
     "metadata": {},
     "output_type": "execute_result"
    }
   ],
   "source": [
    "#b\n",
    "gt=np.array([[3,2,1,3,1,0,0,0]])\n",
    "def traduc(pri,T,g,E,gt):\n",
    "    prob=gen(pri,T,g)\n",
    "    for i in range(len(g[0])):\n",
    "        prob=prob*E[gt[0][i]][g[0][i]]\n",
    "\n",
    "            \n",
    "    return prob\n",
    "\n",
    "traduc(pri,T,g,E,gt)"
   ]
  }
 ],
 "metadata": {
  "kernelspec": {
   "display_name": "Python 3",
   "language": "python",
   "name": "python3"
  },
  "language_info": {
   "codemirror_mode": {
    "name": "ipython",
    "version": 3
   },
   "file_extension": ".py",
   "mimetype": "text/x-python",
   "name": "python",
   "nbconvert_exporter": "python",
   "pygments_lexer": "ipython3",
   "version": "3.11.6"
  }
 },
 "nbformat": 4,
 "nbformat_minor": 4
}
