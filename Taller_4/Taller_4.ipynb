{
 "cells": [
  {
   "cell_type": "code",
   "execution_count": 2,
   "metadata": {},
   "outputs": [],
   "source": [
    "#send help"
   ]
  },
  {
   "cell_type": "code",
   "execution_count": 3,
   "metadata": {},
   "outputs": [],
   "source": [
    "#please"
   ]
  },
  {
   "cell_type": "code",
   "execution_count": 4,
   "metadata": {},
   "outputs": [],
   "source": [
    "#Punto 1.1.a"
   ]
  },
  {
   "cell_type": "code",
   "execution_count": 5,
   "metadata": {},
   "outputs": [
    {
     "data": {
      "text/plain": [
       "0.00865051903114187"
      ]
     },
     "execution_count": 5,
     "metadata": {},
     "output_type": "execute_result"
    }
   ],
   "source": [
    "import numpy as np\n",
    "\n",
    "N = 10000\n",
    "prob2=0\n",
    "prob3=0\n",
    "\n",
    "for i in range(N):\n",
    "    cartas = np.zeros(52)\n",
    "    cartas[:13]=1\n",
    "    np.random.shuffle(cartas)\n",
    " \n",
    "    if cartas[0]==1 and cartas[1]==1:\n",
    "        prob2+=1\n",
    "        if cartas[2]==1 and cartas[3]==1 and cartas[4]==1:\n",
    "            prob3+=1\n",
    "       \n",
    "prob3/prob2"
   ]
  },
  {
   "cell_type": "code",
   "execution_count": 6,
   "metadata": {},
   "outputs": [
    {
     "data": {
      "text/plain": [
       "0.028823058446757407"
      ]
     },
     "execution_count": 6,
     "metadata": {},
     "output_type": "execute_result"
    }
   ],
   "source": [
    "#Punto 1.1.b\n",
    "\n",
    "N = 100000\n",
    "prob3=0\n",
    "prob2=0\n",
    "\n",
    "for i in range(N):\n",
    "    cartas = np.zeros(52)\n",
    "    cartas[:13]=1\n",
    "    np.random.shuffle(cartas)\n",
    " \n",
    "    if cartas[0]==1 and cartas[1]==1 and cartas[2]:\n",
    "        prob3+=1\n",
    "        if cartas[3]==1 and cartas[4]==1 :\n",
    "            prob2+=1\n",
    "       \n",
    "prob2/prob3"
   ]
  },
  {
   "cell_type": "code",
   "execution_count": 7,
   "metadata": {},
   "outputs": [
    {
     "data": {
      "text/plain": [
       "0.18181818181818182"
      ]
     },
     "execution_count": 7,
     "metadata": {},
     "output_type": "execute_result"
    }
   ],
   "source": [
    "#Punto 1.1.c\n",
    "\n",
    "N = 100000\n",
    "prob4=0\n",
    "prob1=0\n",
    "\n",
    "for i in range(N):\n",
    "    cartas = np.zeros(52)\n",
    "    cartas[:13]=1\n",
    "    np.random.shuffle(cartas)\n",
    " \n",
    "    if cartas[0]==1 and cartas[1]==1 and cartas[2] and cartas[3]==1:\n",
    "        prob4+=1\n",
    "        if cartas[4]==1 :\n",
    "            prob1+=1\n",
    "            \n",
    "prob1/prob4"
   ]
  },
  {
   "cell_type": "code",
   "execution_count": 8,
   "metadata": {},
   "outputs": [],
   "source": [
    "#Punto 1.2"
   ]
  },
  {
   "cell_type": "code",
   "execution_count": 9,
   "metadata": {},
   "outputs": [
    {
     "ename": "SyntaxError",
     "evalue": "incomplete input (2525291354.py, line 16)",
     "output_type": "error",
     "traceback": [
      "\u001b[1;36m  Cell \u001b[1;32mIn[9], line 16\u001b[1;36m\u001b[0m\n\u001b[1;33m    \u001b[0m\n\u001b[1;37m    ^\u001b[0m\n\u001b[1;31mSyntaxError\u001b[0m\u001b[1;31m:\u001b[0m incomplete input\n"
     ]
    }
   ],
   "source": [
    "prob_sickp=0.6\n",
    "no_sick_vaccine=0.8\n",
    "sick_vaccine=0.2\n",
    "no_sick_vaccine_nt=0.1\n",
    "sick_vaccine_nt=0.90\n",
    "p_vac=0\n",
    "p_vac_nt=0\n",
    "\n",
    "N=10000\n",
    "\n",
    "for i in range(N):\n",
    "    \n",
    "    \n",
    "\n",
    "\n",
    "\n"
   ]
  },
  {
   "cell_type": "code",
   "execution_count": null,
   "metadata": {},
   "outputs": [],
   "source": [
    "#Punto2.1.a\n",
    "\n"
   ]
  },
  {
   "cell_type": "code",
   "execution_count": null,
   "metadata": {},
   "outputs": [],
   "source": [
    "#Punto2.1.b"
   ]
  },
  {
   "cell_type": "code",
   "execution_count": null,
   "metadata": {},
   "outputs": [],
   "source": [
    "#Punto2.2.a"
   ]
  },
  {
   "cell_type": "code",
   "execution_count": null,
   "metadata": {},
   "outputs": [],
   "source": [
    "#Punto2.2.b"
   ]
  },
  {
   "cell_type": "code",
   "execution_count": null,
   "metadata": {},
   "outputs": [],
   "source": [
    "#Punto2.2.c"
   ]
  },
  {
   "cell_type": "code",
   "execution_count": null,
   "metadata": {},
   "outputs": [],
   "source": [
    "#Punto2.2.d"
   ]
  },
  {
   "cell_type": "code",
   "execution_count": null,
   "metadata": {},
   "outputs": [],
   "source": [
    "#Punto 4"
   ]
  },
  {
   "cell_type": "code",
   "execution_count": null,
   "metadata": {},
   "outputs": [
    {
     "name": "stdout",
     "output_type": "stream",
     "text": [
      "7.500000000000001e-06\n"
     ]
    }
   ],
   "source": [
    "import numpy as np\n",
    "\n",
    "\n",
    "\n",
    "pri=np.array([[0.25,0,0.5,0.25]])\n",
    "E=np.array([[0.8,0,0,0.2],[0.05,0.9,0.1,0.1],[0.05,0.1,0.9,0],[0.1,0,0,0.7]])\n",
    "T= np.array([[0.4,0.2,0.2,0.2],[0.25,0.25,0.25,0.25],[0.3,0.3,0.1,0.3],[0.1,0.1,0.1,0.7]])\n",
    "g=np.array([[3,2,1,3,1,0,0,0]])\n",
    "\n",
    "'''\n",
    "punto 1\n",
    "'''\n",
    "def gen(pri,T,g):\n",
    "    cont=1\n",
    "    for i in g[0]:\n",
    "        if cont==1:\n",
    "            cont=cont*pri[0][i]\n",
    "            j=i\n",
    "        else:\n",
    "            cont=cont*T[j][i]\n",
    "            j=i\n",
    "            \n",
    "    return cont\n",
    "\n",
    "print(gen(pri,T,g))"
   ]
  },
  {
   "cell_type": "code",
   "execution_count": null,
   "metadata": {},
   "outputs": [
    {
     "data": {
      "text/plain": [
       "1.3716864000000001e-06"
      ]
     },
     "execution_count": 1,
     "metadata": {},
     "output_type": "execute_result"
    }
   ],
   "source": [
    "'''\n",
    "4.2\n",
    "'''\n",
    "import numpy as np\n",
    "\n",
    "\n",
    "pri=np.array([[0.25,0,0.5,0.25]])\n",
    "E=np.array([[0.8,0,0,0.2],[0.05,0.9,0.1,0.1],[0.05,0.1,0.9,0],[0.1,0,0,0.7]])\n",
    "T= np.array([[0.4,0.2,0.2,0.2],[0.25,0.25,0.25,0.25],[0.3,0.3,0.1,0.3],[0.1,0.1,0.1,0.7]])\n",
    "g=np.array([[3,2,1,3,1,0,0,0]])\n",
    "gt=np.array([[3,2,1,3,1,0,0,0]])\n",
    "\n",
    "def gen(pri,T,g):\n",
    "    cont=1\n",
    "    for i in g[0]:\n",
    "        if cont==1:\n",
    "            cont=cont*pri[0][i]\n",
    "            j=i\n",
    "        else:\n",
    "            cont=cont*T[j][i]\n",
    "            j=i\n",
    "            \n",
    "    return cont\n",
    "\n",
    "def traduc(pri,T,g,E,gt):\n",
    "    prob=gen(pri,T,g)\n",
    "    for i in range(len(g[0])):\n",
    "        prob=prob*E[gt[0][i]][g[0][i]]\n",
    "\n",
    "            \n",
    "    return prob\n",
    "\n",
    "traduc(pri,T,g,E,gt)"
   ]
  },
  {
   "cell_type": "code",
   "execution_count": null,
   "metadata": {},
   "outputs": [],
   "source": [
    "#punto 3"
   ]
  },
  {
   "cell_type": "code",
   "execution_count": 12,
   "metadata": {},
   "outputs": [],
   "source": [
    "import scipy as sc\n",
    "import numpy as np\n",
    "import sympy as sp\n",
    "\n"
   ]
  },
  {
   "cell_type": "code",
   "execution_count": 13,
   "metadata": {},
   "outputs": [],
   "source": [
    "#3.1\n",
    "def func(x):\n",
    "    return (x**2)/3"
   ]
  },
  {
   "cell_type": "code",
   "execution_count": 17,
   "metadata": {},
   "outputs": [
    {
     "data": {
      "text/plain": [
       "0.11111111111111112"
      ]
     },
     "execution_count": 17,
     "metadata": {},
     "output_type": "execute_result"
    }
   ],
   "source": [
    "#3.1a\n",
    "a=sc.integrate.quad(func,0,1)[0]\n",
    "a"
   ]
  },
  {
   "cell_type": "code",
   "execution_count": 18,
   "metadata": {},
   "outputs": [
    {
     "data": {
      "text/plain": [
       "0.7777777777777778"
      ]
     },
     "execution_count": 18,
     "metadata": {},
     "output_type": "execute_result"
    }
   ],
   "source": [
    "#3.1b\n",
    "b=sc.integrate.quad(func,1,2)[0]\n",
    "b\n",
    "    \n",
    "            "
   ]
  },
  {
   "cell_type": "code",
   "execution_count": 19,
   "metadata": {},
   "outputs": [],
   "source": [
    "#3.2\n",
    "def normal(x):\n",
    "    return (1/(36*((np.pi*2)**(1/2)))*sp.exp(-0.5*((x-78)/(36))**2))"
   ]
  },
  {
   "cell_type": "code",
   "execution_count": 25,
   "metadata": {},
   "outputs": [
    {
     "data": {
      "text/latex": [
       "$\\displaystyle 0.566183832610903$"
      ],
      "text/plain": [
       "0.566183832610903"
      ]
     },
     "execution_count": 25,
     "metadata": {},
     "output_type": "execute_result"
    }
   ],
   "source": [
    "#3.2.a\n",
    "x=sp.symbols(\"x\")\n",
    "func=normal(x)\n",
    "maya72=sp.integrate(func,(x,72,np.inf)).evalf()\n",
    "maya72"
   ]
  },
  {
   "cell_type": "code",
   "execution_count": 26,
   "metadata": {},
   "outputs": [
    {
     "data": {
      "text/latex": [
       "$\\displaystyle 124.135856359605$"
      ],
      "text/plain": [
       "124.135856359605"
      ]
     },
     "execution_count": 26,
     "metadata": {},
     "output_type": "execute_result"
    }
   ],
   "source": [
    "x2=sp.symbols(\"b\")\n",
    "integral=sp.integrate(func,(x,x2,np.inf))\n",
    "nota_limite=sp.solve(integral-0.1)[0].evalf()\n",
    "nota_limite"
   ]
  },
  {
   "cell_type": "code",
   "execution_count": 27,
   "metadata": {},
   "outputs": [
    {
     "data": {
      "text/latex": [
       "$\\displaystyle 98.875442127397$"
      ],
      "text/plain": [
       "98.8754421273970"
      ]
     },
     "execution_count": 27,
     "metadata": {},
     "output_type": "execute_result"
    }
   ],
   "source": [
    "punto_limite=sp.solve(integral-0.281)[0].evalf()\n",
    "punto_limite"
   ]
  },
  {
   "cell_type": "code",
   "execution_count": 29,
   "metadata": {},
   "outputs": [
    {
     "data": {
      "text/latex": [
       "$\\displaystyle 0.208000501268187$"
      ],
      "text/plain": [
       "0.208000501268187"
      ]
     },
     "execution_count": 29,
     "metadata": {},
     "output_type": "execute_result"
    }
   ],
   "source": [
    "punto=sp.solve(integral-0.25)[0].evalf()\n",
    "notapuntos=punto+5\n",
    "mayanotamenormas5=sp.integrate(func,(x,notapuntos,np.inf)).evalf()\n",
    "mayanotamenormas5"
   ]
  },
  {
   "cell_type": "code",
   "execution_count": 31,
   "metadata": {},
   "outputs": [
    {
     "data": {
      "text/latex": [
       "$\\displaystyle 0.433816167389096$"
      ],
      "text/plain": [
       "0.433816167389096"
      ]
     },
     "execution_count": 31,
     "metadata": {},
     "output_type": "execute_result"
    }
   ],
   "source": [
    "maya84=sp.integrate(func,(x,84,np.inf)).evalf()\n",
    "maya84\n",
    "#Esto debido a que si son mayores a 72, serán mayores a 84"
   ]
  }
 ],
 "metadata": {
  "kernelspec": {
   "display_name": "Python 3",
   "language": "python",
   "name": "python3"
  },
  "language_info": {
   "codemirror_mode": {
    "name": "ipython",
    "version": 3
   },
   "file_extension": ".py",
   "mimetype": "text/x-python",
   "name": "python",
   "nbconvert_exporter": "python",
   "pygments_lexer": "ipython3",
   "version": "3.11.6"
  }
 },
 "nbformat": 4,
 "nbformat_minor": 4
}
