{
 "cells": [
  {
   "cell_type": "code",
   "execution_count": 1,
   "metadata": {},
   "outputs": [],
   "source": [
    "#send help"
   ]
  },
  {
   "cell_type": "code",
   "execution_count": 1,
   "metadata": {},
   "outputs": [],
   "source": [
    "#please"
   ]
  },
  {
   "cell_type": "code",
   "execution_count": null,
   "metadata": {},
   "outputs": [],
   "source": [
    "#Punto 1.1.a"
   ]
  },
  {
   "cell_type": "code",
   "execution_count": 26,
   "metadata": {},
   "outputs": [
    {
     "data": {
      "text/plain": [
       "0.008503401360544218"
      ]
     },
     "execution_count": 26,
     "metadata": {},
     "output_type": "execute_result"
    }
   ],
   "source": [
    "import numpy as np\n",
    "\n",
    "N = 10000\n",
    "prob2=0\n",
    "prob3=0\n",
    "\n",
    "for i in range(N):\n",
    "    cartas = np.zeros(52)\n",
    "    cartas[:13]=1\n",
    "    np.random.shuffle(cartas)\n",
    " \n",
    "    if cartas[0]==1 and cartas[1]==1:\n",
    "        prob2+=1\n",
    "        if cartas[2]==1 and cartas[3]==1 and cartas[4]==1:\n",
    "            prob3+=1\n",
    "       \n",
    "prob3/prob2"
   ]
  },
  {
   "cell_type": "code",
   "execution_count": 68,
   "metadata": {},
   "outputs": [
    {
     "data": {
      "text/plain": [
       "0.0364741641337386"
      ]
     },
     "execution_count": 68,
     "metadata": {},
     "output_type": "execute_result"
    }
   ],
   "source": [
    "#Punto 1.1.b\n",
    "\n",
    "N = 100000\n",
    "prob3=0\n",
    "prob2=0\n",
    "\n",
    "for i in range(N):\n",
    "    cartas = np.zeros(52)\n",
    "    cartas[:13]=1\n",
    "    np.random.shuffle(cartas)\n",
    " \n",
    "    if cartas[0]==1 and cartas[1]==1 and cartas[2]:\n",
    "        prob3+=1\n",
    "        if cartas[3]==1 and cartas[4]==1 :\n",
    "            prob2+=1\n",
    "       \n",
    "prob2/prob3"
   ]
  },
  {
   "cell_type": "code",
   "execution_count": 73,
   "metadata": {},
   "outputs": [
    {
     "data": {
      "text/plain": [
       "0.18867924528301888"
      ]
     },
     "execution_count": 73,
     "metadata": {},
     "output_type": "execute_result"
    }
   ],
   "source": [
    "#Punto 1.1.c\n",
    "\n",
    "N = 100000\n",
    "prob4=0\n",
    "prob1=0\n",
    "\n",
    "for i in range(N):\n",
    "    cartas = np.zeros(52)\n",
    "    cartas[:13]=1\n",
    "    np.random.shuffle(cartas)\n",
    " \n",
    "    if cartas[0]==1 and cartas[1]==1 and cartas[2] and cartas[3]==1:\n",
    "        prob4+=1\n",
    "        if cartas[4]==1 :\n",
    "            prob1+=1\n",
    "            \n",
    "prob1/prob4"
   ]
  },
  {
   "cell_type": "code",
   "execution_count": null,
   "metadata": {},
   "outputs": [],
   "source": [
    "#Punto 1.2"
   ]
  },
  {
   "cell_type": "code",
   "execution_count": null,
   "metadata": {},
   "outputs": [],
   "source": [
    "prob_sickp=0.6\n",
    "no_sick_vaccine=0.8\n",
    "sick_vaccine=0.2\n",
    "no_sick_vaccine_nt=0.1\n",
    "sick_vaccine_nt=0.90\n",
    "p_vac=0\n",
    "p_vac_nt=0\n",
    "\n",
    "N=10000\n",
    "\n",
    "for i in range(N):\n",
    "    \n",
    "    \n",
    "\n",
    "\n",
    "\n"
   ]
  },
  {
   "cell_type": "code",
   "execution_count": null,
   "metadata": {},
   "outputs": [],
   "source": [
    "#Punto2.1.a\n",
    "\n"
   ]
  },
  {
   "cell_type": "code",
   "execution_count": null,
   "metadata": {},
   "outputs": [],
   "source": [
    "#Punto2.1.b"
   ]
  },
  {
   "cell_type": "code",
   "execution_count": null,
   "metadata": {},
   "outputs": [],
   "source": [
    "#Punto2.2.a"
   ]
  },
  {
   "cell_type": "code",
   "execution_count": null,
   "metadata": {},
   "outputs": [],
   "source": [
    "#Punto2.2.b"
   ]
  },
  {
   "cell_type": "code",
   "execution_count": null,
   "metadata": {},
   "outputs": [],
   "source": [
    "#Punto2.2.c"
   ]
  },
  {
   "cell_type": "code",
   "execution_count": null,
   "metadata": {},
   "outputs": [],
   "source": [
    "#Punto2.2.d"
   ]
  },
  {
   "cell_type": "code",
   "execution_count": 1,
   "metadata": {},
   "outputs": [],
   "source": [
    "#Punto 4"
   ]
  },
  {
   "cell_type": "code",
   "execution_count": 2,
   "metadata": {},
   "outputs": [
    {
     "name": "stdout",
     "output_type": "stream",
     "text": [
      "7.500000000000001e-06\n"
     ]
    }
   ],
   "source": [
    "import numpy as np\n",
    "\n",
    "\n",
    "\n",
    "pri=np.array([[0.25,0,0.5,0.25]])\n",
    "E=np.array([[0.8,0,0,0.2],[0.05,0.9,0.1,0.1],[0.05,0.1,0.9,0],[0.1,0,0,0.7]])\n",
    "T= np.array([[0.4,0.2,0.2,0.2],[0.25,0.25,0.25,0.25],[0.3,0.3,0.1,0.3],[0.1,0.1,0.1,0.7]])\n",
    "g=np.array([[3,2,1,3,1,0,0,0]])\n",
    "\n",
    "'''\n",
    "punto 1\n",
    "'''\n",
    "def gen(pri,T,g):\n",
    "    cont=1\n",
    "    for i in g[0]:\n",
    "        if cont==1:\n",
    "            cont=cont*pri[0][i]\n",
    "            j=i\n",
    "        else:\n",
    "            cont=cont*T[j][i]\n",
    "            j=i\n",
    "            \n",
    "    return cont\n",
    "\n",
    "print(gen(pri,T,g))"
   ]
  },
  {
   "cell_type": "code",
   "execution_count": null,
   "metadata": {},
   "outputs": [
    {
     "ename": "",
     "evalue": "",
     "output_type": "error",
     "traceback": [
      "\u001b[1;31mFailed to start the Kernel. \n",
      "\u001b[1;31mUnable to start Kernel 'Python 3.11.6' due to a timeout waiting for the ports to get used. \n",
      "\u001b[1;31mView Jupyter <a href='command:jupyter.viewOutput'>log</a> for further details."
     ]
    }
   ],
   "source": [
    "'''\n",
    "4.2\n",
    "'''\n",
    "import numpy as np\n",
    "\n",
    "\n",
    "pri=np.array([[0.25,0,0.5,0.25]])\n",
    "E=np.array([[0.8,0,0,0.2],[0.05,0.9,0.1,0.1],[0.05,0.1,0.9,0],[0.1,0,0,0.7]])\n",
    "T= np.array([[0.4,0.2,0.2,0.2],[0.25,0.25,0.25,0.25],[0.3,0.3,0.1,0.3],[0.1,0.1,0.1,0.7]])\n",
    "g=np.array([[3,2,1,3,1,0,0,0]])\n",
    "gt=np.array([[3,2,1,3,1,0,0,0]])\n",
    "\n",
    "def gen(pri,T,g):\n",
    "    cont=1\n",
    "    for i in g[0]:\n",
    "        if cont==1:\n",
    "            cont=cont*pri[0][i]\n",
    "            j=i\n",
    "        else:\n",
    "            cont=cont*T[j][i]\n",
    "            j=i\n",
    "            \n",
    "    return cont\n",
    "\n",
    "def traduc(pri,T,g,E,gt):\n",
    "    prob=gen(pri,T,g)\n",
    "    for i in range(len(g[0])):\n",
    "        prob=prob*E[gt[0][i]][g[0][i]]\n",
    "\n",
    "            \n",
    "    return prob\n",
    "\n",
    "traduc(pri,T,g,E,gt)"
   ]
  },
  {
   "cell_type": "code",
   "execution_count": 6,
   "metadata": {},
   "outputs": [],
   "source": []
  },
  {
   "cell_type": "code",
   "execution_count": 3,
   "metadata": {},
   "outputs": [],
   "source": []
  },
  {
   "cell_type": "code",
   "execution_count": null,
   "metadata": {},
   "outputs": [],
   "source": []
  },
  {
   "cell_type": "code",
   "execution_count": 5,
   "metadata": {},
   "outputs": [],
   "source": []
  },
  {
   "cell_type": "code",
   "execution_count": 16,
   "metadata": {},
   "outputs": [],
   "source": [
    "\n",
    "    \n",
    "            "
   ]
  },
  {
   "cell_type": "code",
   "execution_count": null,
   "metadata": {},
   "outputs": [],
   "source": []
  },
  {
   "cell_type": "code",
   "execution_count": null,
   "metadata": {},
   "outputs": [],
   "source": []
  }
 ],
 "metadata": {
  "kernelspec": {
   "display_name": "Python 3",
   "language": "python",
   "name": "python3"
  },
  "language_info": {
   "codemirror_mode": {
    "name": "ipython",
    "version": 3
   },
   "file_extension": ".py",
   "mimetype": "text/x-python",
   "name": "python",
   "nbconvert_exporter": "python",
   "pygments_lexer": "ipython3",
   "version": "3.8.5"
  }
 },
 "nbformat": 4,
 "nbformat_minor": 4
}
